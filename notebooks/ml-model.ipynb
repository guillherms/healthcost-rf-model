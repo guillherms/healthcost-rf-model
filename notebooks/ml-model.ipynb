{
 "cells": [
  {
   "cell_type": "markdown",
   "id": "2d3b1160",
   "metadata": {},
   "source": [
    "# **Tech Challenge**  👨🏻‍💻\n",
    "\n",
    "**Problema:**\n",
    "\n",
    "*   Você é um(a) profissional encarregado(a) de desenvolver um modelo preditivo de regressão para prever o valor dos custos médicos individuais cobrados pelo seguro de saúde."
   ]
  },
  {
   "cell_type": "code",
   "execution_count": null,
   "id": "70de5b4f",
   "metadata": {},
   "outputs": [],
   "source": [
    "import pandas as pd\n",
    "import numpy as np\n",
    "import seaborn as sns\n",
    "import matplotlib.pyplot as plt\n",
    "from sklearn.model_selection import train_test_split\n",
    "from sklearn.metrics import mean_squared_error, r2_score, mean_absolute_error\n",
    "from sklearn.ensemble import RandomForestRegressor"
   ]
  },
  {
   "cell_type": "markdown",
   "id": "2edab908",
   "metadata": {},
   "source": [
    "# **Exploração de dados** 🕵🏻\n",
    "\n",
    "\n",
    "\n",
    "*   Carregue a base de dados e explore suas características;\n",
    "*   Analise estatísticas descritivas e visualize distribuições relevantes."
   ]
  },
  {
   "cell_type": "code",
   "execution_count": null,
   "id": "2627094b",
   "metadata": {},
   "outputs": [],
   "source": [
    "df = pd.read_csv('data/healthcare_data_100k.csv')\n",
    "df.head()"
   ]
  },
  {
   "cell_type": "code",
   "execution_count": null,
   "id": "f31111ee",
   "metadata": {},
   "outputs": [],
   "source": [
    "df.info()"
   ]
  },
  {
   "cell_type": "code",
   "execution_count": null,
   "id": "619d6249",
   "metadata": {},
   "outputs": [],
   "source": [
    "# Total de linhas nulas para cada coluna\n",
    "# gênero e idade possuem linhas\n",
    "df.isnull().sum()"
   ]
  },
  {
   "cell_type": "code",
   "execution_count": null,
   "id": "2c739686",
   "metadata": {},
   "outputs": [],
   "source": [
    "# Estatísticas descritivas\n",
    "print(df.describe(include='all'))"
   ]
  },
  {
   "cell_type": "code",
   "execution_count": null,
   "id": "3d5e8a22",
   "metadata": {},
   "outputs": [],
   "source": [
    "# Plotar histogramas para colunas numéricas\n",
    "numerical_cols = df.select_dtypes(include='number').columns\n",
    "\n",
    "plt.figure(figsize=(15, 12))\n",
    "for i, col in enumerate(numerical_cols[:6]):  # limitar a 6 para melhor visualização\n",
    "    plt.subplot(3, 2, i + 1)\n",
    "    sns.histplot(df[col], kde=True)\n",
    "    plt.title(f'Distribuição de {col}')\n",
    "plt.tight_layout()\n",
    "plt.show()\n",
    "\n",
    "'''\n",
    "Na distribuição idade é possível notar:\n",
    "    * Uma concentração entre 50 e 70 anos\n",
    "    * Presença de valores muito altos acima de 800, distorcendo a escala\n",
    "'''"
   ]
  },
  {
   "cell_type": "code",
   "execution_count": null,
   "id": "b0ea9e48",
   "metadata": {},
   "outputs": [],
   "source": [
    "# Criar o gráfico de boxplot\n",
    "plt.boxplot(df['renda_mensal'])\n",
    "plt.title('renda_mensal')\n",
    "plt.ylabel('Valores')\n",
    "plt.show()"
   ]
  },
  {
   "cell_type": "code",
   "execution_count": null,
   "id": "1e7f0b6c",
   "metadata": {},
   "outputs": [],
   "source": [
    "plt.boxplot(df['imc'])\n",
    "plt.title('imc')\n",
    "plt.ylabel('Valores')\n",
    "plt.show()"
   ]
  },
  {
   "cell_type": "code",
   "execution_count": null,
   "id": "a8b5e36a",
   "metadata": {},
   "outputs": [],
   "source": [
    "plt.boxplot(df['filhos'])\n",
    "plt.title('filhos')\n",
    "plt.ylabel('Valores')\n",
    "plt.show()"
   ]
  },
  {
   "cell_type": "code",
   "execution_count": null,
   "id": "309f7f63",
   "metadata": {},
   "outputs": [],
   "source": [
    "print(df['renda_mensal'].max())\n",
    "print(df['renda_mensal'].min())\n",
    "print(df['renda_mensal'].mean())"
   ]
  },
  {
   "cell_type": "markdown",
   "id": "4fda65e2",
   "metadata": {},
   "source": [
    "# **Pré-processamento de dados** 🛠️\n",
    "*   Realize a limpeza dos dados, tratando valores ausentes;\n",
    "*   Converta variáveis categóricas em formatos adequados para modelagem.\n",
    "\n",
    "Atributo idade e gênero possuem linhas vazias"
   ]
  },
  {
   "cell_type": "code",
   "execution_count": null,
   "id": "cf2f9cb5",
   "metadata": {},
   "outputs": [],
   "source": [
    "df['idade_ausente'] = df['idade'].isnull() | (df['idade'] < 1) | (df['idade'] > 105)"
   ]
  },
  {
   "cell_type": "code",
   "execution_count": null,
   "id": "a95a4ca2",
   "metadata": {},
   "outputs": [],
   "source": [
    "df['idade_ausente'] = df['idade_ausente'].astype(int)"
   ]
  },
  {
   "cell_type": "code",
   "execution_count": null,
   "id": "0c2e1bee",
   "metadata": {},
   "outputs": [],
   "source": [
    "# Preencher idade inválida ou ausente com a mediana das idades válidas\n",
    "mediana_idade_valida = df.loc[(df['idade'] >= 1) & (df['idade'] <= 105), 'idade'].median()"
   ]
  },
  {
   "cell_type": "code",
   "execution_count": null,
   "id": "663a83f6",
   "metadata": {},
   "outputs": [],
   "source": [
    "df['idade'] = df['idade'].apply(\n",
    "    lambda x: mediana_idade_valida if pd.isnull(x) or x < 1 or x > 105 else x\n",
    ")\n",
    "\n",
    "# Mostrar as novas estatísticas\n",
    "idade_minima_corrigida = df['idade'].min()\n",
    "idade_maxima_corrigida = df['idade'].max()\n",
    "mediana_idade_valida, idade_minima_corrigida, idade_maxima_corrigida"
   ]
  },
  {
   "cell_type": "code",
   "execution_count": null,
   "id": "1214ee2d",
   "metadata": {},
   "outputs": [],
   "source": [
    "# Gerar histograma da coluna 'idade'\n",
    "plt.figure(figsize=(10, 6))\n",
    "plt.hist(df['idade'].dropna(), bins=50, edgecolor='black')\n",
    "plt.title('Histograma da Idade')\n",
    "plt.xlabel('Idade')\n",
    "plt.ylabel('Frequência')\n",
    "plt.grid(True)\n",
    "plt.tight_layout()\n",
    "plt.show()"
   ]
  },
  {
   "cell_type": "code",
   "execution_count": null,
   "id": "1b8e57dd",
   "metadata": {},
   "outputs": [],
   "source": [
    "# No gráfico podemos ver que muitos registros possuem a idade 99\n",
    "\n",
    "contagem_idade_99 = (df['idade'] == 99).sum()\n",
    "contagem_idade_999 = (df['idade'] == 999).sum()\n",
    "contagem_idade_nulas = (df['idade'].isnull()).sum()\n",
    "print(f\"Quantidade de registros com idade 99: {contagem_idade_99}\")\n",
    "print(f\"Quantidade de registros com idade 999: {contagem_idade_999}\")\n",
    "print(f\"Quantidade de registros nulos: {contagem_idade_nulas}\")\n"
   ]
  },
  {
   "cell_type": "code",
   "execution_count": null,
   "id": "5c2204a1",
   "metadata": {},
   "outputs": [],
   "source": [
    "# Solução 1 - Substituir por mediana.\n",
    "\n",
    "# Calcular a mediana das idades válidas (excluindo nulos e o valor 99, que é considerado placeholder)\n",
    "#mediana_idade_valida = df.loc[(df['idade'] != 99) & (~df['idade'].isnull()), 'idade'].median()\n",
    "\n",
    "#print(f\"Idade mediana: {mediana_idade_valida}\")\n",
    "\n",
    "# Substituir 99, 999 e NaN por 46.0\n",
    "#df['idade'] = df['idade'].apply(lambda x: 46.0 if pd.isnull(x) or x == 999 or x == 99 else x)"
   ]
  },
  {
   "cell_type": "code",
   "execution_count": null,
   "id": "14fc95df",
   "metadata": {},
   "outputs": [],
   "source": [
    "print(df['idade'].unique())"
   ]
  },
  {
   "cell_type": "code",
   "execution_count": null,
   "id": "dcde0f89",
   "metadata": {},
   "outputs": [],
   "source": [
    "media_idade = df['idade'].mean()\n",
    "print(f\"Média de idade: {media_idade:.2f} anos\")"
   ]
  },
  {
   "cell_type": "code",
   "execution_count": null,
   "id": "da80d008",
   "metadata": {},
   "outputs": [],
   "source": [
    "# Distribuição da coluna 'gênero'\n",
    "print(df['gênero'].value_counts(dropna=False))"
   ]
  },
  {
   "cell_type": "code",
   "execution_count": null,
   "id": "bb8f4ece",
   "metadata": {},
   "outputs": [],
   "source": [
    "# Substituir valores nulos em 'gênero' pela moda (valor mais frequente)\n",
    "#moda_genero = df['gênero'].mode()[0]\n",
    "#print(moda_genero)\n",
    "\n",
    "# Substituir nulos e 'desconhecido' por essa moda\n",
    "#df['gênero'] = df['gênero'].replace(to_replace=[None, 'desconhecido'], value=moda_genero)\n",
    "#df['gênero'] = df['gênero'].fillna(moda_genero)\n",
    "\n",
    "# Verificar se ainda existem valores faltantes ou desconhecidos\n",
    "#print(df['gênero'].value_counts(dropna=False))"
   ]
  },
  {
   "cell_type": "code",
   "execution_count": null,
   "id": "fd81a348",
   "metadata": {},
   "outputs": [],
   "source": [
    "df['gênero'] = df['gênero'].replace([None, 'desconhecido'], 'não informado')\n",
    "df['gênero'] = df['gênero'].fillna('não informado')"
   ]
  },
  {
   "cell_type": "code",
   "execution_count": null,
   "id": "bd53765d",
   "metadata": {},
   "outputs": [],
   "source": [
    "# ========================\n",
    "# GRÁFICOS DE BARRAS PARA VARIÁVEIS CATEGÓRICAS\n",
    "# ========================\n",
    "fig, axes = plt.subplots(2, 3, figsize=(18, 10))\n",
    "\n",
    "sns.countplot(x='gênero', data=df, ax=axes[0, 0])\n",
    "axes[0, 0].set_title('Contagem por Gênero')\n",
    "\n",
    "sns.countplot(x='fumante', data=df, ax=axes[0, 1])\n",
    "axes[0, 1].set_title('Contagem de Fumantes')\n",
    "\n",
    "sns.countplot(x='região', data=df, ax=axes[0, 2])\n",
    "axes[0, 2].set_title('Contagem por Região')\n",
    "\n",
    "sns.countplot(x='tipo_plano', data=df, ax=axes[1, 0])\n",
    "axes[1, 0].set_title('Tipo de Plano')\n",
    "\n",
    "sns.countplot(x='uso_medicamento', data=df, ax=axes[1, 1])\n",
    "axes[1, 1].set_title('Uso de Medicamento')\n",
    "\n",
    "sns.countplot(x='doencas_cronicas', data=df, ax=axes[1, 2])\n",
    "axes[1, 2].set_title('Doenças Crônicas')\n",
    "\n",
    "plt.tight_layout()\n",
    "plt.show()"
   ]
  },
  {
   "cell_type": "code",
   "execution_count": null,
   "id": "1be54c0c",
   "metadata": {},
   "outputs": [],
   "source": [
    "#print(df['encargos'].describe())\n",
    "df['encargos'] = df['encargos'] / 1000\n",
    "#print(df['encargos'].describe())"
   ]
  },
  {
   "cell_type": "code",
   "execution_count": null,
   "id": "bd350b79",
   "metadata": {},
   "outputs": [],
   "source": [
    "print(df.dtypes)"
   ]
  },
  {
   "cell_type": "code",
   "execution_count": null,
   "id": "3e2c8859",
   "metadata": {},
   "outputs": [],
   "source": [
    "# Solução 1 - Categorizar utilizando get_dummies.\n",
    "\n",
    "# Converta variáveis categóricas em formatos adequados para modelagem.\n",
    "\n",
    "\n",
    "# df_encoded = pd.get_dummies(df, columns=['gênero', 'fumante', 'região',\n",
    "#                                          'tipo_plano', 'uso_medicamento',\n",
    "#                                          'doencas_cronicas'], drop_first=True)\n",
    "\n",
    "\n",
    "# # Normalização de Colunas Numéricas\n",
    "# scaler = StandardScaler()\n",
    "# colunas_numericas = ['idade', 'imc', 'filhos', 'renda_mensal']\n",
    "# df_encoded[colunas_numericas] = scaler.fit_transform(df_encoded[colunas_numericas])\n",
    "\n",
    "# # Normalização de Colunas Booleanas\n",
    "# df_encoded = df_encoded.astype({col: int for col in df_encoded.select_dtypes('bool').columns})\n",
    "\n",
    "# print(df_encoded.dtypes)\n",
    "\n"
   ]
  },
  {
   "cell_type": "code",
   "execution_count": null,
   "id": "ca905a21",
   "metadata": {},
   "outputs": [],
   "source": [
    "from sklearn.preprocessing import LabelEncoder\n",
    "\n",
    "label_encoder = LabelEncoder()\n",
    "\n",
    "# Ajustar e transformar os rótulos\n",
    "df['gênero'] = label_encoder.fit_transform(df['gênero'])\n",
    "df['fumante'] = label_encoder.fit_transform(df['fumante'])\n",
    "df['região'] = label_encoder.fit_transform(df['região'])\n",
    "df['tipo_plano'] = label_encoder.fit_transform(df['tipo_plano'])\n",
    "df['uso_medicamento'] = label_encoder.fit_transform(df['uso_medicamento'])\n",
    "df['doencas_cronicas'] = label_encoder.fit_transform(df['doencas_cronicas'])"
   ]
  },
  {
   "cell_type": "markdown",
   "id": "49cd624f",
   "metadata": {},
   "source": [
    "# **Feature Engineering** ✨"
   ]
  },
  {
   "cell_type": "code",
   "execution_count": null,
   "id": "c17a1913",
   "metadata": {},
   "outputs": [],
   "source": [
    "df['tipo_plano_renda'] = df['tipo_plano'] * df['renda_mensal']\n",
    "df['filhos_renda'] = df['filhos'] / (df['renda_mensal'] + 1)\n",
    "\n",
    "df['idade_imc'] = df['idade'] * df['imc']\n",
    "df['idade_filhos'] = df['idade'] * df['filhos']\n",
    "\n",
    "#df['tem_filhos'] = (df['filhos'] > 0).astype(int)\n"
   ]
  },
  {
   "cell_type": "code",
   "execution_count": null,
   "id": "ad2e9b31",
   "metadata": {},
   "outputs": [],
   "source": [
    "from sklearn.preprocessing import OneHotEncoder\n",
    "\n",
    "ohe = OneHotEncoder()\n",
    "ohe_transform = ohe.fit_transform(df[['tipo_plano']])\n",
    "\n",
    "ohe.get_feature_names_out()"
   ]
  },
  {
   "cell_type": "code",
   "execution_count": null,
   "id": "81a75915",
   "metadata": {},
   "outputs": [],
   "source": [
    "ohe_transform.toarray()"
   ]
  },
  {
   "cell_type": "code",
   "execution_count": null,
   "id": "00b91d6f",
   "metadata": {},
   "outputs": [],
   "source": [
    "df_ohe = pd.DataFrame(ohe_transform.toarray())\n",
    "df_ohe.columns = ohe.get_feature_names_out()\n",
    "df_ohe.head()"
   ]
  },
  {
   "cell_type": "code",
   "execution_count": null,
   "id": "d1240ba1",
   "metadata": {},
   "outputs": [],
   "source": [
    "# Concatenar os dataframes\n",
    "df = pd.concat([df, df_ohe], axis=1)\n",
    "df.head()"
   ]
  },
  {
   "cell_type": "code",
   "execution_count": null,
   "id": "492709d9",
   "metadata": {},
   "outputs": [],
   "source": [
    "# Solução 2 -  Utilizando OrdinalEncoder o modelo não respondeu tão bem quanto com OneHotEncoder\n",
    "\n",
    "#from sklearn.preprocessing import OrdinalEncoder\n",
    "\n",
    "#oe = OrdinalEncoder()\n",
    "#oe_transform_regiao = oe.fit_transform(df[['região']])\n",
    "#oe_transform_plano = oe.fit_transform(df[['tipo_plano']])\n",
    "\n",
    "#df['num_tipo_plano'] = oe_transform_plano"
   ]
  },
  {
   "cell_type": "code",
   "execution_count": null,
   "id": "4ac0d111",
   "metadata": {},
   "outputs": [],
   "source": [
    "def categorizar_idade(idade):\n",
    "    if idade < 30:\n",
    "        return 'jovem'\n",
    "    elif idade < 45:\n",
    "        return 'adulto'\n",
    "    elif idade < 60:\n",
    "        return 'meia_idade'\n",
    "    elif idade < 75:\n",
    "        return 'idoso'\n",
    "    else:\n",
    "        return 'muito_idoso'\n",
    "\n",
    "df['faixa_etaria'] = df['idade'].apply(categorizar_idade)\n"
   ]
  },
  {
   "cell_type": "code",
   "execution_count": null,
   "id": "c4dda0d6",
   "metadata": {},
   "outputs": [],
   "source": [
    "ohe_transform_faixa_etaria = ohe.fit_transform(df[['faixa_etaria']])\n",
    "\n",
    "ohe.get_feature_names_out()"
   ]
  },
  {
   "cell_type": "code",
   "execution_count": null,
   "id": "33943105",
   "metadata": {},
   "outputs": [],
   "source": [
    "ohe_transform_faixa_etaria.toarray()"
   ]
  },
  {
   "cell_type": "code",
   "execution_count": null,
   "id": "7901f7a7",
   "metadata": {},
   "outputs": [],
   "source": [
    "df_ohe = pd.DataFrame(ohe_transform_faixa_etaria.toarray())\n",
    "df_ohe.columns = ohe.get_feature_names_out()\n",
    "df_ohe.head()"
   ]
  },
  {
   "cell_type": "code",
   "execution_count": null,
   "id": "250e8b72",
   "metadata": {},
   "outputs": [],
   "source": [
    "# Concatenar os dataframes\n",
    "df = pd.concat([df, df_ohe], axis=1)\n",
    "df.head()"
   ]
  },
  {
   "cell_type": "code",
   "execution_count": null,
   "id": "777ae719",
   "metadata": {},
   "outputs": [],
   "source": [
    "df = df.drop(columns=['faixa_etaria', 'idade', 'tipo_plano'])\n",
    "df.head()"
   ]
  },
  {
   "cell_type": "code",
   "execution_count": null,
   "id": "fac72f89",
   "metadata": {},
   "outputs": [],
   "source": [
    "# Selecionar variáveis numéricas para o heatmap\n",
    "corr_df = df[['imc', 'filhos',\n",
    "              'renda_mensal', 'encargos',\n",
    "              'idade_imc', 'filhos_renda', \n",
    "              'idade_filhos', 'gênero']]\n",
    "\n",
    "# Calcular matriz de correlação\n",
    "correlation_matrix = corr_df.corr()\n",
    "\n",
    "# Plotar heatmap\n",
    "import seaborn as sns\n",
    "import matplotlib.pyplot as plt\n",
    "\n",
    "plt.figure(figsize=(9, 8))\n",
    "sns.heatmap(correlation_matrix, annot=True, cmap='coolwarm', fmt=\".2f\", square=True)\n",
    "plt.title('Mapa de Correlação entre Variáveis Numéricas')\n",
    "plt.tight_layout()\n",
    "plt.show()"
   ]
  },
  {
   "cell_type": "markdown",
   "id": "f5f8b8df",
   "metadata": {},
   "source": [
    "# **Criação das variáveis derivadas** ⚙️"
   ]
  },
  {
   "cell_type": "code",
   "execution_count": null,
   "id": "bab077b5",
   "metadata": {},
   "outputs": [],
   "source": [
    "# Calcular Q1, Q3 e IQR\n",
    "Q1 = df['renda_mensal'].quantile(0.25)\n",
    "Q3 = df['renda_mensal'].quantile(0.75)\n",
    "IQR = Q3 - Q1\n",
    "\n",
    "# Limites superior e inferior\n",
    "limite_inferior = Q1 - 1.5 * IQR\n",
    "limite_superior = Q3 + 1.5 * IQR\n",
    "\n",
    "# Aplicar truncamento dos valores fora do intervalo\n",
    "df['renda_mensal'] = df['renda_mensal'].clip(lower=limite_inferior, upper=limite_superior)\n",
    "\n",
    "\n",
    "\n",
    "plt.boxplot(df['renda_mensal'])\n",
    "plt.title('renda_mensal (após truncamento dos outliers)')\n",
    "plt.ylabel('Valores')\n",
    "plt.show()"
   ]
  },
  {
   "cell_type": "code",
   "execution_count": null,
   "id": "5e672a80",
   "metadata": {},
   "outputs": [],
   "source": [
    "df['obeso'] = (df['imc'] >= 30).astype(int)\n",
    "\n",
    "df.head()"
   ]
  },
  {
   "cell_type": "code",
   "execution_count": null,
   "id": "9b31d8ee",
   "metadata": {},
   "outputs": [],
   "source": [
    "from sklearn.linear_model import LinearRegression\n",
    "\n",
    "X = df.drop(columns=['encargos'])\n",
    "y = df['encargos']\n",
    "\n",
    "X_train, X_test, y_train, y_test = train_test_split(X, y, test_size=0.2, random_state=42)\n",
    "\n",
    "# Treinar modelo de regressão linear\n",
    "modelo = LinearRegression()\n",
    "modelo.fit(X_train, y_train)\n",
    "y_pred = modelo.predict(X_test)\n",
    "\n",
    "# Métricas\n",
    "rmse_antes = np.sqrt(mean_squared_error(y_test, y_pred))\n",
    "r2_antes = r2_score(y_test, y_pred)\n",
    "\n",
    "print(f\"RMSE: {rmse_antes:.2f}\")\n",
    "print(f\"R²: {r2_antes:.2f}\")"
   ]
  },
  {
   "cell_type": "markdown",
   "id": "ab1502c0",
   "metadata": {},
   "source": [
    "📈 Resumo da Regressão Linear (OLS)\n",
    "\n",
    "| Métrica                | Valor           | Interpretação                                            |\n",
    "| ---------------------- | --------------- | -------------------------------------------------------- |\n",
    "| **R-squared**          | 0.010           | O modelo explica apenas 1% da variabilidade dos encargos |\n",
    "| **Adj. R-squared**     | 0.008           | Valor ajustado ainda menor, indicando pouca eficácia     |\n",
    "| **F-statistic**        | 7.017           | Teste global do modelo                                   |\n",
    "| **Prob (F-statistic)** | 1.24e-14        | Modelo como um todo é estatisticamente significativo     |\n",
    "| **Log-Likelihood**     | -109410         | Critério para comparação entre modelos                   |\n",
    "| **AIC / BIC**          | 218900 / 219000 | Quanto menores, melhor (útil para comparar modelos)      |\n",
    "| **Nº de observações**  | 10.000          | Dataset robusto                                          |\n",
    "| **Df Model**           | 14              | Número de variáveis independentes                        |\n",
    "\n",
    "✅ Conclusão do Modelo OLS\n",
    "\n",
    "Apesar da significância estatística global, o baixo R² mostra que o modelo linear simples não tem poder preditivo adequado. Ele é útil para interpretação, mas não suficiente para previsão prática."
   ]
  },
  {
   "cell_type": "markdown",
   "id": "b12bc15b",
   "metadata": {},
   "source": [
    "# **Treinamento Random Forest** 🌲🌳🌿"
   ]
  },
  {
   "cell_type": "code",
   "execution_count": null,
   "id": "aec9dd5a",
   "metadata": {},
   "outputs": [],
   "source": [
    "# 1. Separar features e variável alvo\n",
    "\n",
    "#X = df.drop(columns='encargos')\n",
    "\n",
    "X = df.drop('encargos', axis=1)\n",
    "y = df['encargos']"
   ]
  },
  {
   "cell_type": "code",
   "execution_count": null,
   "id": "515387fd",
   "metadata": {},
   "outputs": [],
   "source": [
    "# 2. Dividir em treino e teste (80% treino, 20% teste)\n",
    "X_train, X_test, y_train, y_test = train_test_split(X, y, test_size=0.2, random_state=42)\n",
    "#X_train, X_test, y_train, y_test = train_test_split(X, y, test_size=0.5, random_state=0)"
   ]
  },
  {
   "cell_type": "code",
   "execution_count": null,
   "id": "766c70fc",
   "metadata": {},
   "outputs": [],
   "source": [
    "# # 6. Treinar modelo Random Forest\n",
    "#modelo_rf = RandomForestRegressor(n_estimators=400, random_state=42, n_jobs=-1)\n",
    "modelo_rf = RandomForestRegressor(n_estimators=400, random_state=0, n_jobs=-1, min_samples_leaf=1)\n",
    "modelo_rf.fit(X_train, y_train)"
   ]
  },
  {
   "cell_type": "code",
   "execution_count": null,
   "id": "4f2afc22",
   "metadata": {},
   "outputs": [],
   "source": [
    "# # 7. Fazer predições\n",
    "y_pred = modelo_rf.predict(X_test)"
   ]
  },
  {
   "cell_type": "code",
   "execution_count": null,
   "id": "2a775adf",
   "metadata": {},
   "outputs": [],
   "source": [
    "print(np.sqrt(mean_squared_error(y_test, y_pred)))"
   ]
  },
  {
   "cell_type": "code",
   "execution_count": null,
   "id": "5f36eaf9",
   "metadata": {},
   "outputs": [],
   "source": [
    "# # 8. Avaliar desempenho\n",
    "\n",
    "#Baseline\n",
    "\n",
    "baseline_pred = np.full_like(y_test, y_test.mean())\n",
    "\n",
    "rmse_baseline = mean_squared_error(y_test, baseline_pred)\n",
    "mae_baseline = mean_absolute_error(y_test, baseline_pred)\n",
    "\n",
    "#Modelo\n",
    "\n",
    "rmse_modelo = mean_squared_error(y_test, y_pred)\n",
    "mae_modelo = mean_absolute_error(y_test, y_pred)\n",
    "\n",
    "# 3. Porcentagem de melhora\n",
    "melhora_rmse = (rmse_baseline - rmse_modelo) / rmse_baseline * 100\n",
    "melhora_mae = (mae_baseline - mae_modelo) / mae_baseline * 100\n",
    "\n",
    "r2 = r2_score(y_test, y_pred)\n",
    "\n",
    "#print(f\"RMSE (Erro Quadrático Médio): {rmse_modelo:.2f}\")\n",
    "#print(f\"R² (Coeficiente de Determinação): {r2:.2f}\")\n",
    "\n",
    "print(f\"📈 RMSE: {rmse_modelo:.2f}\")\n",
    "print(f\"📉 MAE: {mae_modelo:.2f}\")\n",
    "print(f\"🎯 R²: {r2:.2f}%\\n\")\n",
    "\n",
    "print(f\"📊 RMSE Baseline: {rmse_baseline:.2f}\")\n",
    "print(f\"📈 RMSE Modelo  : {rmse_modelo:.2f}\")\n",
    "print(f\"✅ Redução RMSE : {melhora_rmse:.2f}%\\n\")\n",
    "\n",
    "print(f\"📊 MAE Baseline : {mae_baseline:.2f}\")\n",
    "print(f\"📉 MAE Modelo   : {mae_modelo:.2f}\")\n",
    "print(f\"✅ Redução MAE  : {melhora_mae:.2f}%\")"
   ]
  },
  {
   "cell_type": "markdown",
   "id": "1589ffa9",
   "metadata": {},
   "source": [
    "📊 Interpretação dos Resultados:\n",
    "\n",
    "| Métrica  | Valor | Interpretação                                                                                   |\n",
    "| -------- | ----- | ----------------------------------------------------------------------------------------------- |\n",
    "| 📊**Baseline (média)** | 189.62 | Modelo que sempre prevê a média dos encargos.                              |\n",
    "| 📈 **RMSE** | 39.25 | Em média, o modelo erra os encargos em ±62.83 unidades monetárias.Erro médio quadrático — sensível a outliers. Um valor muito bom considerando a base original com RMSE baseline de 189.62. |\n",
    "| 📉 **MAE** | 4.19 | Erro médio absoluto — mostra que, em média, o modelo erra apenas 4.19 unidades, o que é excelente. |\n",
    "| 🎯 **R²**   | 0.79  | O modelo explica **79% da variação** dos encargos com as variáveis usadas. |\n"
   ]
  },
  {
   "cell_type": "code",
   "execution_count": null,
   "id": "718d2e6f",
   "metadata": {},
   "outputs": [],
   "source": [
    "# Real vs Previsto\n",
    "\n",
    "plt.figure(figsize=(6, 6))\n",
    "plt.scatter(y_test, y_pred, alpha=0.3)\n",
    "plt.plot([y_test.min(), y_test.max()], [y_test.min(), y_test.max()], 'r--')\n",
    "plt.title('Encargos Reais vs. Previstos (Modelo Leve)')\n",
    "plt.xlabel('Encargos Reais')\n",
    "plt.ylabel('Encargos Previstos')\n",
    "plt.grid(True)\n",
    "plt.tight_layout()\n",
    "plt.show()"
   ]
  },
  {
   "cell_type": "code",
   "execution_count": null,
   "id": "3a34893a",
   "metadata": {},
   "outputs": [],
   "source": [
    "# Importâncias das features\n",
    "importancias = pd.Series(modelo_rf.feature_importances_, index=X.columns)\n",
    "importancias_top = importancias.sort_values(ascending=False)\n",
    "\n",
    "plt.figure(figsize=(10, 6))\n",
    "sns.barplot(x=importancias_top.values, y=importancias_top.index)\n",
    "plt.title('Top 15 Features Mais Importantes')\n",
    "plt.xlabel('Importância')\n",
    "plt.ylabel('Variáveis')\n",
    "plt.tight_layout()\n",
    "plt.show()"
   ]
  },
  {
   "cell_type": "code",
   "execution_count": null,
   "id": "ecec328f",
   "metadata": {},
   "outputs": [],
   "source": [
    "\n",
    "# 3. Gráfico: Resíduos (Erros)\n",
    "residuos = y_test - y_pred\n",
    "plt.figure(figsize=(8,6))\n",
    "sns.histplot(residuos, bins=40, kde=True)\n",
    "plt.axvline(0, color='r', linestyle='--')\n",
    "plt.xlabel('Erro (y_real - y_previsto)')\n",
    "plt.title('Distribuição dos Resíduos')\n",
    "plt.grid(True)\n",
    "plt.tight_layout()\n",
    "plt.show()"
   ]
  },
  {
   "cell_type": "markdown",
   "id": "e6177926",
   "metadata": {},
   "source": [
    "✅ 1. Forma Simétrica e Centragem em 0\n",
    "* A distribuição está bem centrada no zero, com uma leve cauda à direita.\n",
    "\n",
    "* Isso indica que o modelo não está sistematicamente errando para mais ou para menos, o que é ótimo.\n",
    "\n",
    "✅ 2. Pico alto no centro\n",
    "* A maioria dos resíduos está bem próxima de 0, sugerindo que as previsões estão muito próximas dos valores reais para grande parte dos dados.\n",
    "\n",
    "⚠️ 3. Caudas levemente assimétricas\n",
    "* Pequena assimetria para a direita (resíduos positivos mais longos) indica que o modelo subestima ligeiramente os encargos mais altos.\n",
    "\n",
    "* Isso pode acontecer em problemas de regressão com outliers positivos ou valores raros muito altos."
   ]
  },
  {
   "cell_type": "code",
   "execution_count": null,
   "id": "9e3e0aea",
   "metadata": {},
   "outputs": [],
   "source": [
    "# 5. Gráfico comparativo\n",
    "labels = ['RMSE', 'MAE']\n",
    "baseline_vals = [rmse_baseline, mae_baseline]\n",
    "modelo_vals = [rmse_modelo, mae_modelo]\n",
    "\n",
    "x = np.arange(len(labels))\n",
    "width = 0.35\n",
    "\n",
    "fig, ax = plt.subplots(figsize=(7,5))\n",
    "ax.bar(x - width/2, baseline_vals, width, label='Baseline', color='gray')\n",
    "ax.bar(x + width/2, modelo_vals, width, label='Modelo', color='green')\n",
    "\n",
    "ax.set_ylabel('Erro')\n",
    "ax.set_title('Comparação de Erros: Baseline vs. Modelo')\n",
    "ax.set_xticks(x)\n",
    "ax.set_xticklabels(labels)\n",
    "ax.legend()\n",
    "ax.grid(True, axis='y')\n",
    "plt.tight_layout()\n",
    "plt.show()\n"
   ]
  },
  {
   "cell_type": "code",
   "execution_count": null,
   "id": "75895785",
   "metadata": {},
   "outputs": [],
   "source": [
    "#import joblib\n",
    "#joblib.dump(modelo_rf, 'modelo_encargos_rf.pkl')"
   ]
  }
 ],
 "metadata": {
  "kernelspec": {
   "display_name": ".env",
   "language": "python",
   "name": "python3"
  },
  "language_info": {
   "codemirror_mode": {
    "name": "ipython",
    "version": 3
   },
   "file_extension": ".py",
   "mimetype": "text/x-python",
   "name": "python",
   "nbconvert_exporter": "python",
   "pygments_lexer": "ipython3",
   "version": "3.12.10"
  }
 },
 "nbformat": 4,
 "nbformat_minor": 5
}
